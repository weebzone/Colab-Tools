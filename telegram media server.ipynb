{
  "cells": [
    {
      "cell_type": "markdown",
      "metadata": {
        "id": "view-in-github",
        "colab_type": "text"
      },
      "source": [
        "<a href=\"https://colab.research.google.com/github/weebzone/Colab-Tools/blob/main/telegram%20media%20server.ipynb\" target=\"_parent\"><img src=\"https://colab.research.google.com/assets/colab-badge.svg\" alt=\"Open In Colab\"/></a>"
      ]
    },
    {
      "cell_type": "markdown",
      "metadata": {
        "id": "CetG3s_vKE5D"
      },
      "source": [
        "\n",
        "\n",
        "<center><img src='https://iili.io/KhN0ztj.png'  height=\"200\" width=\"400\" alt=\"WZML-X-logo\"/></center>\n",
        "\n",
        "---\n",
        "\n",
        "### ***Collab Repository Details***\n",
        "- 🔗 **Repo :** https://github.com/Weebzone/Telegram-Media-Server\n",
        "- 🤖 **Version :** _v1.0.0_\n",
        "- ☢️ **Colab Version :** _v1.0_\n",
        "- 📄 **Channel :** https://telegram.me/WZML_X\n",
        "- 🫂 **Community :** https://telegram.me/WZML_Support\n",
        "\n",
        "---\n"
      ]
    },
    {
      "cell_type": "code",
      "execution_count": null,
      "metadata": {
        "cellView": "form",
        "id": "SoWUSMrl5FXz"
      },
      "outputs": [],
      "source": [
        "#@title <center><h3>***Heroku Login***</h3></center><br>\n",
        "\n",
        "#@markdown ---\n",
        "\n",
        "Heroku_Email = \"\" #@param {type:\"string\"}\n",
        "Heroku_API = \"\" #@param {type:\"string\"}\n",
        "#@markdown <h6>( <b>Note:</b> <i>Team App Deploy, Use your Personal API Token</i> )</h6>\n",
        "\n",
        "#@markdown ---\n",
        "\n",
        "!curl -s https://cli-assets.heroku.com/install.sh | sh\n",
        "\n",
        "from IPython.display import HTML, clear_output, display\n",
        "clear_output()\n",
        "display(HTML(\"<marquee><b>Heroku CLI Installed !</b></marquee>\"))\n",
        "\n",
        "if not all([Heroku_Email, Heroku_API]):\n",
        "    raise ValueError(\"Please fill in all Mandatory Variables.\")\n",
        "\n",
        "from os import path as ospath, chmod\n",
        "\n",
        "netrc_path = ospath.expanduser(\"~/.netrc\")\n",
        "\n",
        "netrc_creds = f'''machine api.heroku.com\n",
        "  login {Heroku_Email}\n",
        "  password {Heroku_API}\n",
        "machine git.heroku.com\n",
        "  login {Heroku_Email}\n",
        "  password {Heroku_API}'''\n",
        "with open(netrc_path, \"w\") as netrc_file:\n",
        "    netrc_file.write(netrc_creds)\n",
        "\n",
        "chmod(netrc_path, 0o600)\n",
        "\n",
        "!git config --global user.email {Heroku_Email}\n",
        "!git config --global user.name \"WZML-X\"\n",
        "\n",
        "display(HTML(\"<marquee><b>Heroku Email & Password Loaded!</b></marquee>\"))"
      ]
    },
    {
      "cell_type": "code",
      "execution_count": null,
      "metadata": {
        "cellView": "form",
        "id": "O0F5uHkJ2kzV"
      },
      "outputs": [],
      "source": [
        "#@title <center><h3>***Create Heroku Multi App***</h3></center><br>\n",
        "\n",
        "#@markdown ---\n",
        "\n",
        "App_Names = \"\" #@param {type:\"string\"}\n",
        "#@markdown <h6>( <b>Note:</b> <i>App Name is Optional, skip for random name !</i> )</h6>\n",
        "\n",
        "Server_Region = \"eu\" #@param [\"eu\", \"us\"] {allow-input: true}\n",
        "HK_Team_Name = \"\" #@param {type:\"string\"}\n",
        "#@markdown <h6>( <b>Note:</b> <i>Team App Deploy, Optional option only if you want to deploy to Teams !</i> )</h6>\n",
        "\n",
        "#@markdown ---\n",
        "\n",
        "HK_Team_Name = f\"--team {HK_Team_Name}\" if HK_Team_Name else \"\"\n",
        "for App_Name in App_Names.split():\n",
        "    !heroku create --region $Server_Region --stack container $HK_Team_Name $App_Name"
      ]
    },
    {
      "cell_type": "code",
      "execution_count": null,
      "metadata": {
        "cellView": "form",
        "id": "NDpKCpuD2xjE"
      },
      "outputs": [],
      "source": [
        "#@title <center><h3>***WZML-X Repo Config Setup***</h3></center><br>\n",
        "\n",
        "#@markdown ---\n",
        "App_Name = \"\" #@param {type:\"string\"}\n",
        "#@markdown <h6>( <b>Note:</b> <i>Config Setup for this App Name, Change the App Name for every Config Save!</i> )</h6>\n",
        "\n",
        "#@markdown\n",
        "CONF_GIST_URL = \"\" # @param {type:\"string\"}\n",
        "\n",
        "\n",
        "\n",
        "from os import path, remove\n",
        "\n",
        "if path.isdir(App_Name):\n",
        "    !rm -rf $App_Name\n",
        "\n",
        "!git clone https://github.com/weebzone/Telegram-Media_server $App_Name\n",
        "%cd $App_Name\n",
        "\n",
        "\n",
        "if CONF_GIST_URL:\n",
        "    !curl -o \"config.py\" $CONF_GIST_URL\n",
        "    print(\"config.py File Extracted and Saved Successfully\")\n",
        "%cd ..\n",
        "\n",
        "print(\"All Available Config Bot Names Saved :\")\n",
        "!ls"
      ]
    },
    {
      "cell_type": "code",
      "execution_count": null,
      "metadata": {
        "cellView": "form",
        "id": "NDbOYtC0ADR5"
      },
      "outputs": [],
      "source": [
        "# @title <center><h3>***Deploy Heroku Multi App***</h3></center><br>\n",
        "\n",
        "#@markdown ---\n",
        "App_Names = \"\" #@param {type:\"string\"}\n",
        "\n",
        "#@markdown ---\n",
        "\n",
        "from os import path as ospath\n",
        "\n",
        "for App_Name in App_Names.split():\n",
        "    if ospath.isdir(App_Name):\n",
        "        %cd $App_Name\n",
        "        !git add . -f\n",
        "        !git commit -m \"HK Setup\"\n",
        "        !heroku git:remote -a $App_Name\n",
        "        !git push heroku main -f\n",
        "        %cd ..\n",
        "    else:\n",
        "        print(f\"Config not set for {App_Name}, Again run the previous cell with App Name\")"
      ]
    },
    {
      "cell_type": "code",
      "execution_count": null,
      "metadata": {
        "cellView": "form",
        "id": "uLHCOrkZgYbG"
      },
      "outputs": [],
      "source": [
        "# @title <center><h3>***Show Heroku App Logs***</h3></center><br>\n",
        "\n",
        "#@markdown ---\n",
        "App_Name = \"\" #@param {type:\"string\"}\n",
        "#@markdown ---\n",
        "\n",
        "!heroku logs -t -a {App_Name}"
      ]
    },
    {
      "cell_type": "code",
      "execution_count": null,
      "metadata": {
        "cellView": "form",
        "id": "jHhWiD3QAVTt"
      },
      "outputs": [],
      "source": [
        "#@title <center><h3>***Heroku Logout***</h3></center><br>\n",
        "\n",
        "!heroku logout"
      ]
    }
  ],
  "metadata": {
    "colab": {
      "provenance": [],
      "include_colab_link": true
    },
    "kernelspec": {
      "display_name": "Python 3",
      "name": "python3"
    },
    "language_info": {
      "name": "python"
    }
  },
  "nbformat": 4,
  "nbformat_minor": 0
}